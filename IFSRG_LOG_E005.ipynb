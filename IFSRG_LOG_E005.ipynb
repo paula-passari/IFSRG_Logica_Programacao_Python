{
  "nbformat": 4,
  "nbformat_minor": 0,
  "metadata": {
    "colab": {
      "name": "IFSRG_LOG_E005.ipynb",
      "provenance": [],
      "collapsed_sections": [],
      "authorship_tag": "ABX9TyNXmgyJ5q4tfZImUC/i1lC6",
      "include_colab_link": true
    },
    "kernelspec": {
      "name": "python3",
      "display_name": "Python 3"
    }
  },
  "cells": [
    {
      "cell_type": "markdown",
      "metadata": {
        "id": "view-in-github",
        "colab_type": "text"
      },
      "source": [
        "<a href=\"https://colab.research.google.com/github/paula-passari/IFSRG_Logica_Programacao_Python/blob/master/IFSRG_LOG_E005.ipynb\" target=\"_parent\"><img src=\"https://colab.research.google.com/assets/colab-badge.svg\" alt=\"Open In Colab\"/></a>"
      ]
    },
    {
      "cell_type": "markdown",
      "metadata": {
        "id": "sMmzaWVlgkWw"
      },
      "source": [
        "## **Exercício 5**\n",
        " \n",
        "Elabore um algoritmo que leia um número, apresente a raiz quadrada e o valor deste número elevado ao quadrado."
      ]
    },
    {
      "cell_type": "code",
      "metadata": {
        "id": "xWq1uSqHd1_j"
      },
      "source": [
        "n = float(input('Digite um número inteiro: '))\n",
        "\n",
        "raiz = n ** 0.5\n",
        "qua = n ** 2\n",
        "\n",
        "print(f'O número {n} possui a raiz quadrada {raiz:.2f} e o valor elevado ao quadradao é {qua:.2f}')"
      ],
      "execution_count": null,
      "outputs": []
    }
  ]
}
