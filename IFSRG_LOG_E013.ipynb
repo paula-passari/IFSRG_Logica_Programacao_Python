{
  "nbformat": 4,
  "nbformat_minor": 0,
  "metadata": {
    "colab": {
      "name": "IFSRG_LOG_E013.ipynb",
      "provenance": [],
      "collapsed_sections": [],
      "authorship_tag": "ABX9TyN4wvykOoNdSGy8wRlQvmOe",
      "include_colab_link": true
    },
    "kernelspec": {
      "name": "python3",
      "display_name": "Python 3"
    }
  },
  "cells": [
    {
      "cell_type": "markdown",
      "metadata": {
        "id": "view-in-github",
        "colab_type": "text"
      },
      "source": [
        "<a href=\"https://colab.research.google.com/github/paula-passari/IFSRG_Logica_Programacao_Python/blob/master/IFSRG_LOG_E013.ipynb\" target=\"_parent\"><img src=\"https://colab.research.google.com/assets/colab-badge.svg\" alt=\"Open In Colab\"/></a>"
      ]
    },
    {
      "cell_type": "markdown",
      "metadata": {
        "id": "sMmzaWVlgkWw"
      },
      "source": [
        "## **Exercício 13**\n",
        " \n",
        "Faça um algoritmo que leia 3 números inteiros distintos e escreva o menor deles."
      ]
    },
    {
      "cell_type": "code",
      "metadata": {
        "id": "xWq1uSqHd1_j"
      },
      "source": [
        "num1 = int(input('Digite o 1º número inteiro: '))\n",
        "num2 = int(input('Digite o 2º número inteiro: '))\n",
        "num3 = int(input('Digite o 3º número inteiro: '))\n",
        "\n",
        "if (num1 != num2) and (num1 != num3) and (num2 != num3):\n",
        "  if (num1 < num2) and (num1 < num3):\n",
        "    print(f'{num1} é o menor número.')\n",
        "  elif (num2 < num1) and (num2 < num3):\n",
        "    print(f'{num2} é o menor número.')\n",
        "  else:\n",
        "    print(f'{num3} é o menor número.')\n",
        "else:\n",
        "  print('Os números não são todos distintos.')"
      ],
      "execution_count": null,
      "outputs": []
    }
  ]
}