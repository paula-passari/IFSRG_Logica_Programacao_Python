{
  "nbformat": 4,
  "nbformat_minor": 0,
  "metadata": {
    "colab": {
      "name": "IFSRG_LOG_E027.ipynb",
      "provenance": [],
      "collapsed_sections": [],
      "authorship_tag": "ABX9TyMj2lJUeO541kW7tlx8F9/J",
      "include_colab_link": true
    },
    "kernelspec": {
      "name": "python3",
      "display_name": "Python 3"
    }
  },
  "cells": [
    {
      "cell_type": "markdown",
      "metadata": {
        "id": "view-in-github",
        "colab_type": "text"
      },
      "source": [
        "<a href=\"https://colab.research.google.com/github/paula-passari/IFSRG_Logica_Programacao_Python/blob/master/IFSRG_LOG_E027.ipynb\" target=\"_parent\"><img src=\"https://colab.research.google.com/assets/colab-badge.svg\" alt=\"Open In Colab\"/></a>"
      ]
    },
    {
      "cell_type": "code",
      "metadata": {
        "id": "yY7Y1TpRTzei"
      },
      "source": [
        "'''\n",
        "Escreva um algoritmo que armazene 6 valores que o usuário digitar em uma lista e \n",
        "mostre o menor e o maior deles.\n",
        "'''"
      ],
      "execution_count": null,
      "outputs": []
    },
    {
      "cell_type": "code",
      "metadata": {
        "id": "Fr7mVx30Us9Z"
      },
      "source": [
        "lista = []\n",
        "for x in range(6):\n",
        "  num = int(input('Digite um valor: '))\n",
        "  lista.append(num)\n",
        " \n",
        "print(f'''O menor valor da lista é {min(lista)}\n",
        "O maior valor da lista é {max(lista)}''')"
      ],
      "execution_count": null,
      "outputs": []
    }
  ]
}