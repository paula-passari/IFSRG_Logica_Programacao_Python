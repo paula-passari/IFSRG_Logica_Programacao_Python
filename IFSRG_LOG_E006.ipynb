{
  "nbformat": 4,
  "nbformat_minor": 0,
  "metadata": {
    "colab": {
      "name": "IFSRG_LOG_E006.ipynb",
      "provenance": [],
      "collapsed_sections": [],
      "authorship_tag": "ABX9TyMWU1TX32tCKg9Y0UIq5eQU",
      "include_colab_link": true
    },
    "kernelspec": {
      "name": "python3",
      "display_name": "Python 3"
    }
  },
  "cells": [
    {
      "cell_type": "markdown",
      "metadata": {
        "id": "view-in-github",
        "colab_type": "text"
      },
      "source": [
        "<a href=\"https://colab.research.google.com/github/paula-passari/IFSRG_Logica_Programacao_Python/blob/master/IFSRG_LOG_E006.ipynb\" target=\"_parent\"><img src=\"https://colab.research.google.com/assets/colab-badge.svg\" alt=\"Open In Colab\"/></a>"
      ]
    },
    {
      "cell_type": "markdown",
      "metadata": {
        "id": "sMmzaWVlgkWw"
      },
      "source": [
        "## **Exercício 6**\n",
        " \n",
        "Escreva um algoritmo para ler uma temperatura em graus Fahrenheit, calcule e escreva o valor correspondente em graus Celsius. A fórmula de conversão é C=((F-32)*5)/9"
      ]
    },
    {
      "cell_type": "code",
      "metadata": {
        "id": "xWq1uSqHd1_j"
      },
      "source": [
        "F = float(input('Digite a temperatura em Fahrenheit: '))\n",
        "\n",
        "C = ((F - 32) * 5) / 9\n",
        "\n",
        "print(f'A temperatura é {C:.2f}ºC.')"
      ],
      "execution_count": null,
      "outputs": []
    }
  ]
}