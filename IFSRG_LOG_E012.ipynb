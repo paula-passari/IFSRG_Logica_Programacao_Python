{
  "nbformat": 4,
  "nbformat_minor": 0,
  "metadata": {
    "colab": {
      "name": "IFSRG_LOG_E012.ipynb",
      "provenance": [],
      "collapsed_sections": [],
      "authorship_tag": "ABX9TyP3kp/lSTGxjFoz/9xdxqzm",
      "include_colab_link": true
    },
    "kernelspec": {
      "name": "python3",
      "display_name": "Python 3"
    }
  },
  "cells": [
    {
      "cell_type": "markdown",
      "metadata": {
        "id": "view-in-github",
        "colab_type": "text"
      },
      "source": [
        "<a href=\"https://colab.research.google.com/github/paula-passari/IFSRG_Logica_Programacao_Python/blob/master/IFSRG_LOG_E012.ipynb\" target=\"_parent\"><img src=\"https://colab.research.google.com/assets/colab-badge.svg\" alt=\"Open In Colab\"/></a>"
      ]
    },
    {
      "cell_type": "markdown",
      "metadata": {
        "id": "sMmzaWVlgkWw"
      },
      "source": [
        "## **Exercício 12**\n",
        " \n",
        "Escreva um algoritmo para determinar se um dado número N é POSITIVO, NEGATIVO ou NULO."
      ]
    },
    {
      "cell_type": "code",
      "metadata": {
        "id": "xWq1uSqHd1_j"
      },
      "source": [
        "num = int(input('Digite um número inteiro: '))\n",
        "\n",
        "if num > 0:\n",
        "  print(f'{num} é POSITIVO.')\n",
        "elif num < 0:\n",
        "  print(f'{num} é NEGATIVO.')\n",
        "else:\n",
        "  print('O número é ZERO.')"
      ],
      "execution_count": null,
      "outputs": []
    }
  ]
}