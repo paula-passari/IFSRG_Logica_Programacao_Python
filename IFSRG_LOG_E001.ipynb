{
  "nbformat": 4,
  "nbformat_minor": 0,
  "metadata": {
    "colab": {
      "name": "IFSRG_LOG_E001.ipynb",
      "provenance": [],
      "authorship_tag": "ABX9TyMoFEXbWZjxrBtCcGCwrdCO",
      "include_colab_link": true
    },
    "kernelspec": {
      "name": "python3",
      "display_name": "Python 3"
    }
  },
  "cells": [
    {
      "cell_type": "markdown",
      "metadata": {
        "id": "view-in-github",
        "colab_type": "text"
      },
      "source": [
        "<a href=\"https://colab.research.google.com/github/paula-passari/IFSRG_Logica_Programacao_Python/blob/master/IFSRG_LOG_E001.ipynb\" target=\"_parent\"><img src=\"https://colab.research.google.com/assets/colab-badge.svg\" alt=\"Open In Colab\"/></a>"
      ]
    },
    {
      "cell_type": "markdown",
      "metadata": {
        "id": "sMmzaWVlgkWw"
      },
      "source": [
        "## **Exercício 1**\r\n",
        "\r\n",
        "Calcular a média de quatro números inteiros dados."
      ]
    },
    {
      "cell_type": "code",
      "metadata": {
        "id": "xWq1uSqHd1_j"
      },
      "source": [
        "n1 = int(input('Digite a primeira nota: '))\r\n",
        "n2 = int(input('Digite a segunda nota: '))\r\n",
        "n3 = int(input('Digite a terceira nota: '))\r\n",
        "n4 = int(input('Digite a quarta nota: '))\r\n",
        "\r\n",
        "m = (n1 + n2 + n3 + n4) / 4\r\n",
        "\r\n",
        "print(f'A média das notas é {m}')"
      ],
      "execution_count": null,
      "outputs": []
    }
  ]
}