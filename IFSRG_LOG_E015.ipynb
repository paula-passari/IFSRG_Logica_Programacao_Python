{
  "nbformat": 4,
  "nbformat_minor": 0,
  "metadata": {
    "colab": {
      "name": "IFSRG_LOG_E015.ipynb",
      "provenance": [],
      "collapsed_sections": [],
      "authorship_tag": "ABX9TyMBmObCZzhJniVJy9xaC7QH",
      "include_colab_link": true
    },
    "kernelspec": {
      "name": "python3",
      "display_name": "Python 3"
    }
  },
  "cells": [
    {
      "cell_type": "markdown",
      "metadata": {
        "id": "view-in-github",
        "colab_type": "text"
      },
      "source": [
        "<a href=\"https://colab.research.google.com/github/paula-passari/IFSRG_Logica_Programacao_Python/blob/master/IFSRG_LOG_E015.ipynb\" target=\"_parent\"><img src=\"https://colab.research.google.com/assets/colab-badge.svg\" alt=\"Open In Colab\"/></a>"
      ]
    },
    {
      "cell_type": "markdown",
      "metadata": {
        "id": "sMmzaWVlgkWw"
      },
      "source": [
        "## **Exercício 15**\n"
      ]
    },
    {
      "cell_type": "code",
      "metadata": {
        "id": "xWq1uSqHd1_j"
      },
      "source": [
        "'''Uma confeitaria vende três tipos de doces. \n",
        "Sabendo-se que o doce do tipo 1 é vendido por R$ 2,00, o do tipo 2 por R$ 2,50 \n",
        "e o do tipo 3 por R$ 3,00, faça um algoritmo que, para cada tipo de doce, \n",
        "mostre a quantidade vendida e o total arrecadado.'''"
      ],
      "execution_count": null,
      "outputs": []
    },
    {
      "cell_type": "code",
      "metadata": {
        "id": "hwkEfW39RluR"
      },
      "source": [
        "print('Escolha o tipo de doce: ')\r\n",
        "escolha = int(input('Digite: 1 - tipo 1; 2 - tipo 2; 3 - tipo 3 '))\r\n",
        "quant = int(input('Informe a quantidade de doces vendidos: '))\r\n",
        "\r\n",
        "if escolha == 1:\r\n",
        "  total = quant * 2\r\n",
        "elif escolha == 2:\r\n",
        "  total = quant * 2.5\r\n",
        "else:\r\n",
        "  total = quant * 3\r\n",
        "\r\n",
        "print(f'O total arrecadado com as vendas do doce do tipo {escolha} foi de R$ {total:.2f}')"
      ],
      "execution_count": null,
      "outputs": []
    }
  ]
}