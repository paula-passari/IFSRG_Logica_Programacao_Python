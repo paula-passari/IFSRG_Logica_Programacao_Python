{
  "nbformat": 4,
  "nbformat_minor": 0,
  "metadata": {
    "colab": {
      "name": "IFSRG_LOG_E016.ipynb",
      "provenance": [],
      "collapsed_sections": [],
      "authorship_tag": "ABX9TyOVCDzY81xUZVmBd+UcIFxN",
      "include_colab_link": true
    },
    "kernelspec": {
      "name": "python3",
      "display_name": "Python 3"
    }
  },
  "cells": [
    {
      "cell_type": "markdown",
      "metadata": {
        "id": "view-in-github",
        "colab_type": "text"
      },
      "source": [
        "<a href=\"https://colab.research.google.com/github/paula-passari/IFSRG_Logica_Programacao_Python/blob/master/IFSRG_LOG_E016.ipynb\" target=\"_parent\"><img src=\"https://colab.research.google.com/assets/colab-badge.svg\" alt=\"Open In Colab\"/></a>"
      ]
    },
    {
      "cell_type": "markdown",
      "metadata": {
        "id": "sMmzaWVlgkWw"
      },
      "source": [
        "## **Exercício 16**\n",
        "\n",
        "Construa um algoritmo que leia um número inteiro de 1 a 7 e informe o dia da semana correspondente, sendo domingo o dia de número 1. Se o número não corresponder a um dia da semana, mostre uma mensagem de erro."
      ]
    },
    {
      "cell_type": "code",
      "metadata": {
        "id": "xWq1uSqHd1_j"
      },
      "source": [
        "dia = ['Domingo', 'Segunda-Feira', 'Terça-Feira', 'Quarta-Feira', 'Quinta-Feira', 'Sexta-Feira', 'Sábado']\n",
        "\n",
        "escolha = int(input('Digite um número de 1 a 7: '))\n",
        "\n",
        "if (escolha < 1) or (escolha > 7):\n",
        "  print('Erro! Digite um valor válido.')\n",
        "else:\n",
        "  print(dia[escolha - 1])"
      ],
      "execution_count": null,
      "outputs": []
    }
  ]
}