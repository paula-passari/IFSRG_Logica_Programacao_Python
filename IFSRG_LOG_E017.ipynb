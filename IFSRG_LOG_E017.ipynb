{
  "nbformat": 4,
  "nbformat_minor": 0,
  "metadata": {
    "colab": {
      "name": "IFSRG_LOG_E017.ipynb",
      "provenance": [],
      "collapsed_sections": [],
      "authorship_tag": "ABX9TyNL62wrTBnyyhd9L3tZcdg8",
      "include_colab_link": true
    },
    "kernelspec": {
      "name": "python3",
      "display_name": "Python 3"
    }
  },
  "cells": [
    {
      "cell_type": "markdown",
      "metadata": {
        "id": "view-in-github",
        "colab_type": "text"
      },
      "source": [
        "<a href=\"https://colab.research.google.com/github/paula-passari/IFSRG_Logica_Programacao_Python/blob/master/IFSRG_LOG_E017.ipynb\" target=\"_parent\"><img src=\"https://colab.research.google.com/assets/colab-badge.svg\" alt=\"Open In Colab\"/></a>"
      ]
    },
    {
      "cell_type": "markdown",
      "metadata": {
        "id": "sMmzaWVlgkWw"
      },
      "source": [
        "## **Exercício 17**\n",
        "\n",
        "Faça um programa que solicite ao usuário para digitar um número e mostre-o por extenso. Este número deve variar entre 1 e 10. Se o usuário digitar um número que não está nesse intervalo, mostre: \"Número inválido\"."
      ]
    },
    {
      "cell_type": "code",
      "metadata": {
        "id": "xWq1uSqHd1_j"
      },
      "source": [
        "numero = ['Um', 'Dois', 'Três', 'Quatro', 'Cinco', 'Seis', 'Sete', 'Oito', 'Nove', 'Dez']\n",
        "\n",
        "escolha = int(input('Digite um número entre 1 e 10: '))\n",
        "\n",
        "if (escolha < 1) or (escolha > 10):\n",
        "  print('Número inválido.')\n",
        "else:\n",
        "  print(numero[escolha - 1])"
      ],
      "execution_count": null,
      "outputs": []
    }
  ]
}