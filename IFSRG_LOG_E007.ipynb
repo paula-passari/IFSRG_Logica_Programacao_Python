{
  "nbformat": 4,
  "nbformat_minor": 0,
  "metadata": {
    "colab": {
      "name": "IFSRG_LOG_E007.ipynb",
      "provenance": [],
      "collapsed_sections": [],
      "authorship_tag": "ABX9TyN7j3vteD2Kmq1w923nmctv",
      "include_colab_link": true
    },
    "kernelspec": {
      "name": "python3",
      "display_name": "Python 3"
    }
  },
  "cells": [
    {
      "cell_type": "markdown",
      "metadata": {
        "id": "view-in-github",
        "colab_type": "text"
      },
      "source": [
        "<a href=\"https://colab.research.google.com/github/paula-passari/IFSRG_Logica_Programacao_Python/blob/master/IFSRG_LOG_E007.ipynb\" target=\"_parent\"><img src=\"https://colab.research.google.com/assets/colab-badge.svg\" alt=\"Open In Colab\"/></a>"
      ]
    },
    {
      "cell_type": "markdown",
      "metadata": {
        "id": "sMmzaWVlgkWw"
      },
      "source": [
        "## **Exercício 7**\n",
        " \n",
        "Uma loja de roupas em geral está vendendo seus produtos em 5 prestrações sem juros ou oferece um desconto de 20% sobre as compras à vista. Faça um algoritmo que receba o valor da compra, mostre o valor das prestações e o valor à vista."
      ]
    },
    {
      "cell_type": "code",
      "metadata": {
        "id": "xWq1uSqHd1_j"
      },
      "source": [
        "total = float(input('Digite o valor total da compra: '))\n",
        "\n",
        "prazo = total / 5\n",
        "vista = total - (total * 0.20)\n",
        "\n",
        "print(f'A compra de {total:.2f} fica R${vista:.2f} à vista ou R${prazo:.2f} em 5x sem juros.')"
      ],
      "execution_count": null,
      "outputs": []
    }
  ]
}