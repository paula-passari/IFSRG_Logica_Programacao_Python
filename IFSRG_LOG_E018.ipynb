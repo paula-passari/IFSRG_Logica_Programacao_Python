{
  "nbformat": 4,
  "nbformat_minor": 0,
  "metadata": {
    "colab": {
      "name": "IFSRG_LOG_E018.ipynb",
      "provenance": [],
      "collapsed_sections": [],
      "authorship_tag": "ABX9TyOp2dgAU0K0qwpCs7DGmCHc",
      "include_colab_link": true
    },
    "kernelspec": {
      "name": "python3",
      "display_name": "Python 3"
    }
  },
  "cells": [
    {
      "cell_type": "markdown",
      "metadata": {
        "id": "view-in-github",
        "colab_type": "text"
      },
      "source": [
        "<a href=\"https://colab.research.google.com/github/paula-passari/IFSRG_Logica_Programacao_Python/blob/master/IFSRG_LOG_E018.ipynb\" target=\"_parent\"><img src=\"https://colab.research.google.com/assets/colab-badge.svg\" alt=\"Open In Colab\"/></a>"
      ]
    },
    {
      "cell_type": "markdown",
      "metadata": {
        "id": "sMmzaWVlgkWw"
      },
      "source": [
        "## **Exercício 18**\n",
        "\n",
        "Construa um algoritmo que solicite um mês do ano (01 a 12) e, de acordo com as condições abaixo, dizer:\n",
        "01: Férias; 02 a 06: 1º semestre do ano letivo; 07: Recesso; 08 a 11: 2º semestre do ano letivo; 12: Férias"
      ]
    },
    {
      "cell_type": "code",
      "metadata": {
        "id": "xWq1uSqHd1_j"
      },
      "source": [
        "mes = int(input('Digite o número equivalente ao mês (1 a 12): '))\n",
        "\n",
        "if (mes == 1) or (mes == 12):\n",
        "  print('Férias')\n",
        "elif (mes == 2) or (mes == 3) or (mes == 4) or (mes == 5) or (mes == 6):\n",
        "  print('1º semestre do ano letivo')\n",
        "elif (mes == 7):\n",
        "  print('Recesso')\n",
        "elif (mes == 8) or (mes == 9) or (mes == 10) or (mes == 11):\n",
        "  print('2º semestre do ano letivo')\n",
        "else:\n",
        "  print('Escolha inválida')"
      ],
      "execution_count": null,
      "outputs": []
    }
  ]
}