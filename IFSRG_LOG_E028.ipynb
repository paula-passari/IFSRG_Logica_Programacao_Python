{
  "nbformat": 4,
  "nbformat_minor": 0,
  "metadata": {
    "colab": {
      "name": "IFSRG_LOG_E028.ipynb",
      "provenance": [],
      "collapsed_sections": [],
      "authorship_tag": "ABX9TyPeI3g3xF6Zt02fqZkYMLEk",
      "include_colab_link": true
    },
    "kernelspec": {
      "name": "python3",
      "display_name": "Python 3"
    }
  },
  "cells": [
    {
      "cell_type": "markdown",
      "metadata": {
        "id": "view-in-github",
        "colab_type": "text"
      },
      "source": [
        "<a href=\"https://colab.research.google.com/github/paula-passari/IFSRG_Logica_Programacao_Python/blob/master/IFSRG_LOG_E028.ipynb\" target=\"_parent\"><img src=\"https://colab.research.google.com/assets/colab-badge.svg\" alt=\"Open In Colab\"/></a>"
      ]
    },
    {
      "cell_type": "code",
      "metadata": {
        "id": "yY7Y1TpRTzei"
      },
      "source": [
        "'''\n",
        "Escreva um algoritmo em que receba dez números do usuário e armazene em \n",
        "uma lista a metade de cada número. Após isso, o algoritmo deve imprimir \n",
        "essa lista.\n",
        "'''"
      ],
      "execution_count": null,
      "outputs": []
    },
    {
      "cell_type": "code",
      "metadata": {
        "id": "Fr7mVx30Us9Z"
      },
      "source": [
        "lista = []\n",
        "for x in range(10):\n",
        "  num = int(input('Digite um número: '))\n",
        "  lista.append(num/2)\n",
        " \n",
        "print(lista)"
      ],
      "execution_count": null,
      "outputs": []
    }
  ]
}