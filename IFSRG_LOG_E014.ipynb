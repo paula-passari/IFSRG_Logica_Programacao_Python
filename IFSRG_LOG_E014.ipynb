{
  "nbformat": 4,
  "nbformat_minor": 0,
  "metadata": {
    "colab": {
      "name": "IFSRG_LOG_E014.ipynb",
      "provenance": [],
      "collapsed_sections": [],
      "authorship_tag": "ABX9TyN53oIwNZ2w67owl2isTmWV",
      "include_colab_link": true
    },
    "kernelspec": {
      "name": "python3",
      "display_name": "Python 3"
    }
  },
  "cells": [
    {
      "cell_type": "markdown",
      "metadata": {
        "id": "view-in-github",
        "colab_type": "text"
      },
      "source": [
        "<a href=\"https://colab.research.google.com/github/paula-passari/IFSRG_Logica_Programacao_Python/blob/master/IFSRG_LOG_E014.ipynb\" target=\"_parent\"><img src=\"https://colab.research.google.com/assets/colab-badge.svg\" alt=\"Open In Colab\"/></a>"
      ]
    },
    {
      "cell_type": "markdown",
      "metadata": {
        "id": "sMmzaWVlgkWw"
      },
      "source": [
        "## **Exercício 14**\n",
        " \n",
        "Escreva um programa que leia os valores de A, B e C. Mostre uma mensagem que informe se a soma de A com B é menor, maior ou igual a C."
      ]
    },
    {
      "cell_type": "code",
      "metadata": {
        "id": "xWq1uSqHd1_j"
      },
      "source": [
        "A = int(input('Digite o valor de A: '))\n",
        "B = int(input('Digite o valor de B: '))\n",
        "C = int(input('Digite o valor de C: '))\n",
        "soma = A + B\n",
        "\n",
        "if soma < C:\n",
        "  print('A soma entre A e B é menor do que C.')\n",
        "elif soma > C:\n",
        "  print('A soma entre A e B é maior do que C.')\n",
        "else:\n",
        "  print('A soma entre A e B é igual a C.')"
      ],
      "execution_count": null,
      "outputs": []
    }
  ]
}