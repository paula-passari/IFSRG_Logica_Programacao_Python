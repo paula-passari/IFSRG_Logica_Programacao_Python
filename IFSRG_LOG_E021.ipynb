{
  "nbformat": 4,
  "nbformat_minor": 0,
  "metadata": {
    "colab": {
      "name": "IFSRG_LOG_E021.ipynb",
      "provenance": [],
      "collapsed_sections": [],
      "authorship_tag": "ABX9TyPHblMiO0inVMMd2w8sCn6p",
      "include_colab_link": true
    },
    "kernelspec": {
      "name": "python3",
      "display_name": "Python 3"
    }
  },
  "cells": [
    {
      "cell_type": "markdown",
      "metadata": {
        "id": "view-in-github",
        "colab_type": "text"
      },
      "source": [
        "<a href=\"https://colab.research.google.com/github/paula-passari/IFSRG_Logica_Programacao_Python/blob/master/IFSRG_LOG_E021.ipynb\" target=\"_parent\"><img src=\"https://colab.research.google.com/assets/colab-badge.svg\" alt=\"Open In Colab\"/></a>"
      ]
    },
    {
      "cell_type": "markdown",
      "metadata": {
        "id": "sMmzaWVlgkWw"
      },
      "source": [
        "## **Exercício 21**\n",
        "\n",
        "Escreva um algoritmo para ler 10 valores, calcular e escrever a média aritmética desses valores."
      ]
    },
    {
      "cell_type": "code",
      "metadata": {
        "id": "xWq1uSqHd1_j"
      },
      "source": [
        "c = 1\n",
        "soma = 0\n",
        "\n",
        "while c <= 10:\n",
        "  n = int(input('Digite um valor: '))\n",
        "  soma = soma + n\n",
        "  c = c + 1\n",
        "\n",
        "media = soma / c\n",
        "\n",
        "print(f'A média é {media:.2f}')"
      ],
      "execution_count": null,
      "outputs": []
    }
  ]
}