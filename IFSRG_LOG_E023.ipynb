{
  "nbformat": 4,
  "nbformat_minor": 0,
  "metadata": {
    "colab": {
      "name": "IFSRG_LOG_E023.ipynb",
      "provenance": [],
      "collapsed_sections": [],
      "authorship_tag": "ABX9TyN72jhwYEhfaJL28Pd1Twoy",
      "include_colab_link": true
    },
    "kernelspec": {
      "name": "python3",
      "display_name": "Python 3"
    }
  },
  "cells": [
    {
      "cell_type": "markdown",
      "metadata": {
        "id": "view-in-github",
        "colab_type": "text"
      },
      "source": [
        "<a href=\"https://colab.research.google.com/github/paula-passari/IFSRG_Logica_Programacao_Python/blob/master/IFSRG_LOG_E023.ipynb\" target=\"_parent\"><img src=\"https://colab.research.google.com/assets/colab-badge.svg\" alt=\"Open In Colab\"/></a>"
      ]
    },
    {
      "cell_type": "markdown",
      "metadata": {
        "id": "sMmzaWVlgkWw"
      },
      "source": [
        "## **Exercício 23**\n",
        "\n",
        "Escreva um algoritmo para ler 10 valores, calcular e escrever a média aritmética desses valores. Faça usando FOR."
      ]
    },
    {
      "cell_type": "code",
      "metadata": {
        "id": "xWq1uSqHd1_j"
      },
      "source": [
        "soma = 0\n",
        "\n",
        "for c in range(0, 10):\n",
        "  n = float(input('Digite um número: '))\n",
        "  soma = soma + n\n",
        "\n",
        "media = soma / 10\n",
        "\n",
        "print(f'A média é {media:.2f}')"
      ],
      "execution_count": null,
      "outputs": []
    }
  ]
}