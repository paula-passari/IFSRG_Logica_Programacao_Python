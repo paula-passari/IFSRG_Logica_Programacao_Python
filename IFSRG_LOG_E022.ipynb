{
  "nbformat": 4,
  "nbformat_minor": 0,
  "metadata": {
    "colab": {
      "name": "IFSRG_LOG_E022.ipynb",
      "provenance": [],
      "collapsed_sections": [],
      "authorship_tag": "ABX9TyPAjFdXJDkcEH6qrsJvvWAl",
      "include_colab_link": true
    },
    "kernelspec": {
      "name": "python3",
      "display_name": "Python 3"
    }
  },
  "cells": [
    {
      "cell_type": "markdown",
      "metadata": {
        "id": "view-in-github",
        "colab_type": "text"
      },
      "source": [
        "<a href=\"https://colab.research.google.com/github/paula-passari/IFSRG_Logica_Programacao_Python/blob/master/IFSRG_LOG_E022.ipynb\" target=\"_parent\"><img src=\"https://colab.research.google.com/assets/colab-badge.svg\" alt=\"Open In Colab\"/></a>"
      ]
    },
    {
      "cell_type": "markdown",
      "metadata": {
        "id": "sMmzaWVlgkWw"
      },
      "source": [
        "## **Exercício 22**\n",
        "\n",
        "Escreva um algoritmo leia o número de alunos de uma turma, leia as notas desses alunos e calcule a média aritmética destes alunos. Faça usando WHILE."
      ]
    },
    {
      "cell_type": "code",
      "metadata": {
        "id": "xWq1uSqHd1_j"
      },
      "source": [
        "alunos = int(input('Digite o número de alunos: '))\n",
        "cont = 1\n",
        "soma = 0\n",
        "\n",
        "while cont <= alunos:\n",
        "  nota = float(input('Digite a nota do aluno: '))\n",
        "  soma = soma + nota\n",
        "  cont = cont + 1\n",
        "\n",
        "media = soma / alunos\n",
        "\n",
        "print(f'A média da classe é {media:.2f}')"
      ],
      "execution_count": null,
      "outputs": []
    }
  ]
}