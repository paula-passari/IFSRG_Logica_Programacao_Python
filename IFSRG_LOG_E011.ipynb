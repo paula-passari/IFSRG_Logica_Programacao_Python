{
  "nbformat": 4,
  "nbformat_minor": 0,
  "metadata": {
    "colab": {
      "name": "IFSRG_LOG_E011.ipynb",
      "provenance": [],
      "collapsed_sections": [],
      "authorship_tag": "ABX9TyPxpkvxT0E+0qtnA6/jn9AE",
      "include_colab_link": true
    },
    "kernelspec": {
      "name": "python3",
      "display_name": "Python 3"
    }
  },
  "cells": [
    {
      "cell_type": "markdown",
      "metadata": {
        "id": "view-in-github",
        "colab_type": "text"
      },
      "source": [
        "<a href=\"https://colab.research.google.com/github/paula-passari/IFSRG_Logica_Programacao_Python/blob/master/IFSRG_LOG_E011.ipynb\" target=\"_parent\"><img src=\"https://colab.research.google.com/assets/colab-badge.svg\" alt=\"Open In Colab\"/></a>"
      ]
    },
    {
      "cell_type": "markdown",
      "metadata": {
        "id": "sMmzaWVlgkWw"
      },
      "source": [
        "## **Exercício 11**\n",
        " \n",
        "Escreva um programa que leia um número e imprima a raiz quadrada do número caso ele seja positivo ou igual a zero; e o quadrado do número caso ele seja negativo"
      ]
    },
    {
      "cell_type": "code",
      "metadata": {
        "id": "xWq1uSqHd1_j"
      },
      "source": [
        "num = int(input('Digite um número inteiro: '))\n",
        "\n",
        "if num >= 0:\n",
        "  print(num ** 0.5)\n",
        "else:\n",
        "  print(num ** 2)"
      ],
      "execution_count": null,
      "outputs": []
    }
  ]
}